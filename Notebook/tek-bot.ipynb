{
 "cells": [
  {
   "cell_type": "markdown",
   "metadata": {},
   "source": [
    "# Importing the required modules"
   ]
  },
  {
   "cell_type": "code",
   "execution_count": 2,
   "metadata": {},
   "outputs": [],
   "source": [
    "import pandas as pd\n",
    "import spacy\n",
    "import joblib\n",
    "from sklearn.feature_extraction.text import TfidfVectorizer\n",
    "from sklearn.linear_model import LogisticRegression\n",
    "from sklearn.pipeline import Pipeline\n",
    "from sklearn.model_selection import train_test_split\n",
    "from sklearn.metrics import classification_report"
   ]
  },
  {
   "cell_type": "code",
   "execution_count": 3,
   "metadata": {},
   "outputs": [],
   "source": [
    "# Load spaCy model\n",
    "nlp = spacy.load(\"en_core_web_sm\")\n",
    "# if it is not there then use python -m spacy download en_core_web_sm"
   ]
  },
  {
   "cell_type": "markdown",
   "metadata": {},
   "source": [
    "# Load your dataset"
   ]
  },
  {
   "cell_type": "code",
   "execution_count": 5,
   "metadata": {},
   "outputs": [],
   "source": [
    "df = pd.read_csv(\"../Data/intent_dataset_cleaned.csv\", quotechar='\"')\n",
    "df = df.dropna()"
   ]
  },
  {
   "cell_type": "code",
   "execution_count": 6,
   "metadata": {},
   "outputs": [
    {
     "data": {
      "text/html": [
       "<div>\n",
       "<style scoped>\n",
       "    .dataframe tbody tr th:only-of-type {\n",
       "        vertical-align: middle;\n",
       "    }\n",
       "\n",
       "    .dataframe tbody tr th {\n",
       "        vertical-align: top;\n",
       "    }\n",
       "\n",
       "    .dataframe thead th {\n",
       "        text-align: right;\n",
       "    }\n",
       "</style>\n",
       "<table border=\"1\" class=\"dataframe\">\n",
       "  <thead>\n",
       "    <tr style=\"text-align: right;\">\n",
       "      <th></th>\n",
       "      <th>text</th>\n",
       "      <th>intent</th>\n",
       "      <th>response</th>\n",
       "    </tr>\n",
       "  </thead>\n",
       "  <tbody>\n",
       "    <tr>\n",
       "      <th>0</th>\n",
       "      <td>text</td>\n",
       "      <td>intent</td>\n",
       "      <td>response</td>\n",
       "    </tr>\n",
       "    <tr>\n",
       "      <th>1</th>\n",
       "      <td>What does Tekworks do?</td>\n",
       "      <td>about</td>\n",
       "      <td>Tekworks is a global executive search firm spe...</td>\n",
       "    </tr>\n",
       "    <tr>\n",
       "      <th>2</th>\n",
       "      <td>Tell me about Tekworks.</td>\n",
       "      <td>about</td>\n",
       "      <td>Tekworks partners with businesses to provide e...</td>\n",
       "    </tr>\n",
       "    <tr>\n",
       "      <th>3</th>\n",
       "      <td>What services do you offer?</td>\n",
       "      <td>services</td>\n",
       "      <td>Tekworks offers Executive Hiring Leadership Hi...</td>\n",
       "    </tr>\n",
       "    <tr>\n",
       "      <th>4</th>\n",
       "      <td>Can you explain your executive hiring services?</td>\n",
       "      <td>services</td>\n",
       "      <td>Their Executive Hiring service helps businesse...</td>\n",
       "    </tr>\n",
       "  </tbody>\n",
       "</table>\n",
       "</div>"
      ],
      "text/plain": [
       "                                              text    intent  \\\n",
       "0                                             text    intent   \n",
       "1                           What does Tekworks do?     about   \n",
       "2                          Tell me about Tekworks.     about   \n",
       "3                      What services do you offer?  services   \n",
       "4  Can you explain your executive hiring services?  services   \n",
       "\n",
       "                                            response  \n",
       "0                                           response  \n",
       "1  Tekworks is a global executive search firm spe...  \n",
       "2  Tekworks partners with businesses to provide e...  \n",
       "3  Tekworks offers Executive Hiring Leadership Hi...  \n",
       "4  Their Executive Hiring service helps businesse...  "
      ]
     },
     "execution_count": 6,
     "metadata": {},
     "output_type": "execute_result"
    }
   ],
   "source": [
    "# Display few entries\n",
    "df.head()"
   ]
  },
  {
   "cell_type": "markdown",
   "metadata": {},
   "source": [
    "# Preprocessing "
   ]
  },
  {
   "cell_type": "code",
   "execution_count": 7,
   "metadata": {},
   "outputs": [],
   "source": [
    "def preprocess(text):\n",
    "    doc = nlp(text.lower())\n",
    "    tokens = [token.lemma_ for token in doc if not token.is_stop and token.is_alpha]\n",
    "    return \" \".join(tokens)\n",
    "\n",
    "# Apply preprocessing\n",
    "df[\"clean_text\"] = df[\"text\"].apply(preprocess)"
   ]
  },
  {
   "cell_type": "markdown",
   "metadata": {},
   "source": [
    "# Vectorization and model training\n"
   ]
  },
  {
   "cell_type": "code",
   "execution_count": 11,
   "metadata": {},
   "outputs": [
    {
     "data": {
      "text/plain": [
       "['../Models/tekbot_vectorizer.pkl']"
      ]
     },
     "execution_count": 11,
     "metadata": {},
     "output_type": "execute_result"
    }
   ],
   "source": [
    "# Cell 4: Vectorization + Model Training\n",
    "X = df[\"clean_text\"]\n",
    "y = df[\"intent\"]\n",
    "\n",
    "vectorizer = TfidfVectorizer()\n",
    "X_vec = vectorizer.fit_transform(X)\n",
    "\n",
    "model = LogisticRegression(max_iter=1000)\n",
    "model.fit(X_vec, y)\n",
    "\n",
    "# Save model and vectorizer\n",
    "joblib.dump(model, \"../Models/tekbot_model.pkl\")\n",
    "joblib.dump(vectorizer, \"../Models/tekbot_vectorizer.pkl\")\n"
   ]
  },
  {
   "cell_type": "markdown",
   "metadata": {},
   "source": [
    "# Evaluation"
   ]
  },
  {
   "cell_type": "code",
   "execution_count": 12,
   "metadata": {},
   "outputs": [
    {
     "name": "stdout",
     "output_type": "stream",
     "text": [
      "                     precision    recall  f1-score   support\n",
      "\n",
      "              about       1.00      0.50      0.67         4\n",
      "           approach       0.00      0.00      0.00         3\n",
      "            clients       0.00      0.00      0.00         2\n",
      "            contact       1.00      1.00      1.00        12\n",
      "           founders       0.00      0.00      0.00         1\n",
      "             growth       0.88      0.88      0.88         8\n",
      "     hiring_options       1.00      0.33      0.50         6\n",
      "         industries       0.00      0.00      0.00         1\n",
      "             intent       0.00      0.00      0.00         1\n",
      "               jobs       0.00      0.00      0.00         4\n",
      "        partnership       0.00      0.00      0.00         1\n",
      "recruitment_process       0.94      1.00      0.97        16\n",
      "           services       0.47      0.96      0.63        23\n",
      "    talent_sourcing       1.00      0.60      0.75         5\n",
      "           why_good       0.83      0.71      0.77         7\n",
      "             why_us       0.00      0.00      0.00         1\n",
      "        work_system       1.00      0.33      0.50         6\n",
      "\n",
      "           accuracy                           0.70       101\n",
      "          macro avg       0.48      0.37      0.39       101\n",
      "       weighted avg       0.71      0.70      0.66       101\n",
      "\n"
     ]
    },
    {
     "name": "stderr",
     "output_type": "stream",
     "text": [
      "/Users/naresh/Desktop/Projects/TekWorks-chatbot/Chat-bot/venv/lib/python3.10/site-packages/sklearn/metrics/_classification.py:1565: UndefinedMetricWarning: Precision is ill-defined and being set to 0.0 in labels with no predicted samples. Use `zero_division` parameter to control this behavior.\n",
      "  _warn_prf(average, modifier, f\"{metric.capitalize()} is\", len(result))\n",
      "/Users/naresh/Desktop/Projects/TekWorks-chatbot/Chat-bot/venv/lib/python3.10/site-packages/sklearn/metrics/_classification.py:1565: UndefinedMetricWarning: Precision is ill-defined and being set to 0.0 in labels with no predicted samples. Use `zero_division` parameter to control this behavior.\n",
      "  _warn_prf(average, modifier, f\"{metric.capitalize()} is\", len(result))\n",
      "/Users/naresh/Desktop/Projects/TekWorks-chatbot/Chat-bot/venv/lib/python3.10/site-packages/sklearn/metrics/_classification.py:1565: UndefinedMetricWarning: Precision is ill-defined and being set to 0.0 in labels with no predicted samples. Use `zero_division` parameter to control this behavior.\n",
      "  _warn_prf(average, modifier, f\"{metric.capitalize()} is\", len(result))\n"
     ]
    }
   ],
   "source": [
    "# Cell 5: Evaluation (Optional)\n",
    "X_train, X_test, y_train, y_test = train_test_split(X_vec, y, test_size=0.2, random_state=42)\n",
    "y_pred = model.predict(X_test)\n",
    "print(classification_report(y_test, y_pred))"
   ]
  },
  {
   "cell_type": "markdown",
   "metadata": {},
   "source": [
    "# Save the model and vectorizer"
   ]
  },
  {
   "cell_type": "code",
   "execution_count": 13,
   "metadata": {},
   "outputs": [
    {
     "name": "stdout",
     "output_type": "stream",
     "text": [
      "🤖 TekBot (Intent: about): Tekworks is a global executive search firm specializing in leadership and senior technical hires across industries. They help organizations build high-impact teams through tailored recruitment services.\n",
      "🤖 TekBot (Intent: jobs): You can apply for a job at Tekworks by visiting the Careers page at www.tekworks.in/careers and filling out the contact form with your details and resume.\n",
      "🤖 TekBot (Intent: clients): Tekworks works with a diverse set of clients across industries like healthcare finance technology e-commerce telecom and retail.\n"
     ]
    }
   ],
   "source": [
    "# Cell 6: Intent + Response Prediction Function\n",
    "# Build dictionary to map intent → response\n",
    "intent_responses = df.groupby(\"intent\")[\"response\"].first().to_dict()\n",
    "\n",
    "def predict_intent_and_respond(user_input):\n",
    "    cleaned = preprocess(user_input)\n",
    "    vect_input = vectorizer.transform([cleaned])\n",
    "    predicted_intent = model.predict(vect_input)[0]\n",
    "    response = intent_responses.get(predicted_intent, \"Sorry, I don't have an answer for that.\")\n",
    "    return predicted_intent, response\n",
    "\n",
    "# Interactive Test\n",
    "while True:\n",
    "    query = input(\"You: \")\n",
    "    if query.lower() in [\"exit\", \"quit\"]:\n",
    "        break\n",
    "    intent, response = predict_intent_and_respond(query)\n",
    "    print(f\"🤖 TekBot (Intent: {intent}): {response}\")\n"
   ]
  },
  {
   "cell_type": "code",
   "execution_count": null,
   "metadata": {},
   "outputs": [],
   "source": []
  }
 ],
 "metadata": {
  "kernelspec": {
   "display_name": "Python 3",
   "language": "python",
   "name": "python3"
  },
  "language_info": {
   "codemirror_mode": {
    "name": "ipython",
    "version": 3
   },
   "file_extension": ".py",
   "mimetype": "text/x-python",
   "name": "python",
   "nbconvert_exporter": "python",
   "pygments_lexer": "ipython3",
   "version": "3.10.16"
  }
 },
 "nbformat": 4,
 "nbformat_minor": 2
}
